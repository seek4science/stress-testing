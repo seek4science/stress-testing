{
  "nbformat": 4,
  "nbformat_minor": 0,
  "metadata": {
    "colab": {
      "name": "datafile_creation.ipynb",
      "provenance": [],
      "collapsed_sections": [],
      "include_colab_link": true
    },
    "kernelspec": {
      "display_name": "Python 3",
      "language": "python",
      "name": "python3"
    }
  },
  "cells": [
    {
      "cell_type": "markdown",
      "metadata": {
        "id": "view-in-github",
        "colab_type": "text"
      },
      "source": [
        "<a href=\"https://colab.research.google.com/github/seek4science/stress-testing/blob/main/datafile_creation.ipynb\" target=\"_parent\"><img src=\"https://colab.research.google.com/assets/colab-badge.svg\" alt=\"Open In Colab\"/></a>"
      ]
    },
    {
      "cell_type": "code",
      "source": [
        "!pip install num2words\n",
        "import num2words"
      ],
      "metadata": {
        "colab": {
          "base_uri": "https://localhost:8080/"
        },
        "id": "eE7L3Dvru5hX",
        "outputId": "e284aa95-1234-4ecd-c0f5-c8048b082f73"
      },
      "execution_count": 1,
      "outputs": [
        {
          "output_type": "stream",
          "name": "stdout",
          "text": [
            "Collecting num2words\n",
            "  Downloading num2words-0.5.10-py3-none-any.whl (101 kB)\n",
            "\u001b[?25l\r\u001b[K     |███▎                            | 10 kB 16.6 MB/s eta 0:00:01\r\u001b[K     |██████▌                         | 20 kB 21.9 MB/s eta 0:00:01\r\u001b[K     |█████████▊                      | 30 kB 27.3 MB/s eta 0:00:01\r\u001b[K     |█████████████                   | 40 kB 30.3 MB/s eta 0:00:01\r\u001b[K     |████████████████▏               | 51 kB 28.5 MB/s eta 0:00:01\r\u001b[K     |███████████████████▍            | 61 kB 31.1 MB/s eta 0:00:01\r\u001b[K     |██████████████████████▋         | 71 kB 30.6 MB/s eta 0:00:01\r\u001b[K     |█████████████████████████▉      | 81 kB 18.1 MB/s eta 0:00:01\r\u001b[K     |█████████████████████████████   | 92 kB 19.7 MB/s eta 0:00:01\r\u001b[K     |████████████████████████████████| 101 kB 8.3 MB/s \n",
            "\u001b[?25hRequirement already satisfied: docopt>=0.6.2 in /usr/local/lib/python3.7/dist-packages (from num2words) (0.6.2)\n",
            "Installing collected packages: num2words\n",
            "Successfully installed num2words-0.5.10\n"
          ]
        }
      ]
    },
    {
      "cell_type": "markdown",
      "metadata": {
        "id": "eHED0l52PClp"
      },
      "source": [
        "Import the libraries so that they can be used within the notebook\n",
        "\n",
        "* **requests** is used to make HTTP calls\n",
        "* **json** is used to encode and decode strings into JSON\n",
        "* **string** is used to perform text manipulation and checking\n",
        "* **getpass** is used to do non-echoing password input"
      ]
    },
    {
      "cell_type": "code",
      "metadata": {
        "id": "5EGmpx3Id7py"
      },
      "source": [
        "import requests\n",
        "import json\n",
        "import string\n",
        "import getpass"
      ],
      "execution_count": 2,
      "outputs": []
    },
    {
      "cell_type": "markdown",
      "metadata": {
        "id": "u9t7T9pmQJsn"
      },
      "source": [
        "The **base_url** holds the URL to the SEEK instance that will be used in the notebook\n",
        "\n",
        "**headers** holds the HTTP headers that will be sent with every HTTP call\n",
        "\n",
        "* **Content-type: application/vnd.api+json** - indicates that any data sent will be in JSON API format\n",
        "* **Accept: application/vnd.api+json** - indicates that the notebook expects any data returned to be in JSON API format\n",
        "* **Accept-Charset: ISO-8859-1** - indicates that the notebook expects any text returned to be in ISO-8859-1 character set"
      ]
    },
    {
      "cell_type": "code",
      "metadata": {
        "id": "QKepIS_xd7qL"
      },
      "source": [
        "base_url = 'https://sandbox10.fairdomhub.org/'\n",
        "\n",
        "headers = {\"Content-type\": \"application/vnd.api+json\",\n",
        "           \"Accept\": \"application/vnd.api+json\",\n",
        "           \"Accept-Charset\": \"ISO-8859-1\"}"
      ],
      "execution_count": 3,
      "outputs": []
    },
    {
      "cell_type": "markdown",
      "metadata": {
        "id": "W0U3A7RNQJsu"
      },
      "source": [
        "Create a **requests** HTTP **Session**. A **Session** has re-usable settings such as **headers**\n",
        "\n",
        "The **authorization** is username and password. The user is prompted for this information."
      ]
    },
    {
      "cell_type": "code",
      "metadata": {
        "id": "UKqc5Sr6d7qS",
        "colab": {
          "base_uri": "https://localhost:8080/"
        },
        "outputId": "eb351a54-6c3a-4665-d4d9-e3becadb2443"
      },
      "source": [
        "session = requests.Session()\n",
        "session.headers.update(headers)\n",
        "session.auth = (input('Username: '), getpass.getpass('Password: '))"
      ],
      "execution_count": 4,
      "outputs": [
        {
          "name": "stdout",
          "output_type": "stream",
          "text": [
            "Username: alson\n",
            "Password: ··········\n"
          ]
        }
      ]
    },
    {
      "cell_type": "code",
      "source": [
        "project_data = '''{\n",
        "  \"data\": {\n",
        "    \"type\": \"projects\",\n",
        "    \"attributes\": {\n",
        "      \"discussion_links\": [],\n",
        "      \"avatar\": null,\n",
        "      \"title\": \"TBD\",\n",
        "      \"description\": \"\",\n",
        "      \"web_page\": null,\n",
        "      \"wiki_page\": null,\n",
        "      \"default_license\": \"CC-BY-4.0\",\n",
        "      \"start_date\": null,\n",
        "      \"end_date\": null,\n",
        "      \"default_policy\": {\n",
        "        \"access\": \"download\",\n",
        "        \"permissions\": [\n",
        "          {\n",
        "            \"resource\": {\n",
        "              \"id\": \"2\",\n",
        "              \"type\": \"people\"\n",
        "            },\n",
        "            \"access\": \"manage\"\n",
        "          }\n",
        "        ]\n",
        "      },\n",
        "      \"members\": [\n",
        "        {\n",
        "          \"person_id\": \"2\",\n",
        "          \"institution_id\": \"1\"\n",
        "        }\n",
        "      ],\n",
        "      \"use_default_policy\": true\n",
        "    },\n",
        "    \"relationships\": {\n",
        "      \"project_administrators\": {\n",
        "        \"data\": [\n",
        "          {\n",
        "            \"id\": \"2\",\n",
        "            \"type\": \"people\"\n",
        "          }\n",
        "        ]\n",
        "      },\n",
        "      \"people\": {\n",
        "        \"data\": [\n",
        "          {\n",
        "            \"id\": \"2\",\n",
        "            \"type\": \"people\"\n",
        "          }\n",
        "        ]\n",
        "      },\n",
        "      \"institutions\": {\n",
        "        \"data\": [\n",
        "          {\n",
        "            \"id\": \"1\",\n",
        "            \"type\": \"institutions\"\n",
        "          }\n",
        "        ]\n",
        "      }\n",
        "    }\n",
        "  }\n",
        "}\n",
        "'''"
      ],
      "metadata": {
        "id": "ARxpPAKkTAIx"
      },
      "execution_count": 25,
      "outputs": []
    },
    {
      "cell_type": "code",
      "source": [
        "from num2words import num2words\n",
        "\n",
        "from datetime import datetime\n"
      ],
      "metadata": {
        "id": "7sk6GleAmQm8"
      },
      "execution_count": 26,
      "outputs": []
    },
    {
      "cell_type": "code",
      "source": [
        "def create_project(datafile_count) :\n",
        "  time = datetime.now().strftime(\"%m/%d/%Y, %H:%M:%S\")\n",
        "  project = json.loads(project_data)\n",
        "  project['data']['attributes']['title'] = num2words(datafile_count).capitalize() + ' datafiles project at ' + time\n",
        "\n",
        "  return(project)"
      ],
      "metadata": {
        "id": "Et4k9B_LqHzg"
      },
      "execution_count": 27,
      "outputs": []
    },
    {
      "cell_type": "code",
      "source": [
        "def handle_project(datafile_count):\n",
        "  r = session.post(base_url + 'projects', json=create_project(datafile_count))\n",
        "  r.raise_for_status()\n",
        "  j = r.json()\n",
        "  print(j)\n",
        "  project_id = j['data']['id']\n",
        "  return (project_id)"
      ],
      "metadata": {
        "id": "IPoiWwGjVKej"
      },
      "execution_count": 28,
      "outputs": []
    },
    {
      "cell_type": "code",
      "source": [
        "%time handle_project(10)"
      ],
      "metadata": {
        "colab": {
          "base_uri": "https://localhost:8080/",
          "height": 380
        },
        "id": "kMScc2I7Veno",
        "outputId": "b8f82f63-9df0-43c3-ac1d-7562d53629d0"
      },
      "execution_count": 29,
      "outputs": [
        {
          "output_type": "error",
          "ename": "HTTPError",
          "evalue": "ignored",
          "traceback": [
            "\u001b[0;31m---------------------------------------------------------------------------\u001b[0m",
            "\u001b[0;31mHTTPError\u001b[0m                                 Traceback (most recent call last)",
            "\u001b[0;32m<ipython-input-29-34fa40b67656>\u001b[0m in \u001b[0;36m<module>\u001b[0;34m()\u001b[0m\n\u001b[0;32m----> 1\u001b[0;31m \u001b[0mget_ipython\u001b[0m\u001b[0;34m(\u001b[0m\u001b[0;34m)\u001b[0m\u001b[0;34m.\u001b[0m\u001b[0mmagic\u001b[0m\u001b[0;34m(\u001b[0m\u001b[0;34m'time handle_project(10)'\u001b[0m\u001b[0;34m)\u001b[0m\u001b[0;34m\u001b[0m\u001b[0;34m\u001b[0m\u001b[0m\n\u001b[0m",
            "\u001b[0;32m/usr/local/lib/python3.7/dist-packages/IPython/core/interactiveshell.py\u001b[0m in \u001b[0;36mmagic\u001b[0;34m(self, arg_s)\u001b[0m\n\u001b[1;32m   2158\u001b[0m         \u001b[0mmagic_name\u001b[0m\u001b[0;34m,\u001b[0m \u001b[0m_\u001b[0m\u001b[0;34m,\u001b[0m \u001b[0mmagic_arg_s\u001b[0m \u001b[0;34m=\u001b[0m \u001b[0marg_s\u001b[0m\u001b[0;34m.\u001b[0m\u001b[0mpartition\u001b[0m\u001b[0;34m(\u001b[0m\u001b[0;34m' '\u001b[0m\u001b[0;34m)\u001b[0m\u001b[0;34m\u001b[0m\u001b[0;34m\u001b[0m\u001b[0m\n\u001b[1;32m   2159\u001b[0m         \u001b[0mmagic_name\u001b[0m \u001b[0;34m=\u001b[0m \u001b[0mmagic_name\u001b[0m\u001b[0;34m.\u001b[0m\u001b[0mlstrip\u001b[0m\u001b[0;34m(\u001b[0m\u001b[0mprefilter\u001b[0m\u001b[0;34m.\u001b[0m\u001b[0mESC_MAGIC\u001b[0m\u001b[0;34m)\u001b[0m\u001b[0;34m\u001b[0m\u001b[0;34m\u001b[0m\u001b[0m\n\u001b[0;32m-> 2160\u001b[0;31m         \u001b[0;32mreturn\u001b[0m \u001b[0mself\u001b[0m\u001b[0;34m.\u001b[0m\u001b[0mrun_line_magic\u001b[0m\u001b[0;34m(\u001b[0m\u001b[0mmagic_name\u001b[0m\u001b[0;34m,\u001b[0m \u001b[0mmagic_arg_s\u001b[0m\u001b[0;34m)\u001b[0m\u001b[0;34m\u001b[0m\u001b[0;34m\u001b[0m\u001b[0m\n\u001b[0m\u001b[1;32m   2161\u001b[0m \u001b[0;34m\u001b[0m\u001b[0m\n\u001b[1;32m   2162\u001b[0m     \u001b[0;31m#-------------------------------------------------------------------------\u001b[0m\u001b[0;34m\u001b[0m\u001b[0;34m\u001b[0m\u001b[0;34m\u001b[0m\u001b[0m\n",
            "\u001b[0;32m/usr/local/lib/python3.7/dist-packages/IPython/core/interactiveshell.py\u001b[0m in \u001b[0;36mrun_line_magic\u001b[0;34m(self, magic_name, line)\u001b[0m\n\u001b[1;32m   2079\u001b[0m                 \u001b[0mkwargs\u001b[0m\u001b[0;34m[\u001b[0m\u001b[0;34m'local_ns'\u001b[0m\u001b[0;34m]\u001b[0m \u001b[0;34m=\u001b[0m \u001b[0msys\u001b[0m\u001b[0;34m.\u001b[0m\u001b[0m_getframe\u001b[0m\u001b[0;34m(\u001b[0m\u001b[0mstack_depth\u001b[0m\u001b[0;34m)\u001b[0m\u001b[0;34m.\u001b[0m\u001b[0mf_locals\u001b[0m\u001b[0;34m\u001b[0m\u001b[0;34m\u001b[0m\u001b[0m\n\u001b[1;32m   2080\u001b[0m             \u001b[0;32mwith\u001b[0m \u001b[0mself\u001b[0m\u001b[0;34m.\u001b[0m\u001b[0mbuiltin_trap\u001b[0m\u001b[0;34m:\u001b[0m\u001b[0;34m\u001b[0m\u001b[0;34m\u001b[0m\u001b[0m\n\u001b[0;32m-> 2081\u001b[0;31m                 \u001b[0mresult\u001b[0m \u001b[0;34m=\u001b[0m \u001b[0mfn\u001b[0m\u001b[0;34m(\u001b[0m\u001b[0;34m*\u001b[0m\u001b[0margs\u001b[0m\u001b[0;34m,\u001b[0m\u001b[0;34m**\u001b[0m\u001b[0mkwargs\u001b[0m\u001b[0;34m)\u001b[0m\u001b[0;34m\u001b[0m\u001b[0;34m\u001b[0m\u001b[0m\n\u001b[0m\u001b[1;32m   2082\u001b[0m             \u001b[0;32mreturn\u001b[0m \u001b[0mresult\u001b[0m\u001b[0;34m\u001b[0m\u001b[0;34m\u001b[0m\u001b[0m\n\u001b[1;32m   2083\u001b[0m \u001b[0;34m\u001b[0m\u001b[0m\n",
            "\u001b[0;32m<decorator-gen-53>\u001b[0m in \u001b[0;36mtime\u001b[0;34m(self, line, cell, local_ns)\u001b[0m\n",
            "\u001b[0;32m/usr/local/lib/python3.7/dist-packages/IPython/core/magic.py\u001b[0m in \u001b[0;36m<lambda>\u001b[0;34m(f, *a, **k)\u001b[0m\n\u001b[1;32m    186\u001b[0m     \u001b[0;31m# but it's overkill for just that one bit of state.\u001b[0m\u001b[0;34m\u001b[0m\u001b[0;34m\u001b[0m\u001b[0;34m\u001b[0m\u001b[0m\n\u001b[1;32m    187\u001b[0m     \u001b[0;32mdef\u001b[0m \u001b[0mmagic_deco\u001b[0m\u001b[0;34m(\u001b[0m\u001b[0marg\u001b[0m\u001b[0;34m)\u001b[0m\u001b[0;34m:\u001b[0m\u001b[0;34m\u001b[0m\u001b[0;34m\u001b[0m\u001b[0m\n\u001b[0;32m--> 188\u001b[0;31m         \u001b[0mcall\u001b[0m \u001b[0;34m=\u001b[0m \u001b[0;32mlambda\u001b[0m \u001b[0mf\u001b[0m\u001b[0;34m,\u001b[0m \u001b[0;34m*\u001b[0m\u001b[0ma\u001b[0m\u001b[0;34m,\u001b[0m \u001b[0;34m**\u001b[0m\u001b[0mk\u001b[0m\u001b[0;34m:\u001b[0m \u001b[0mf\u001b[0m\u001b[0;34m(\u001b[0m\u001b[0;34m*\u001b[0m\u001b[0ma\u001b[0m\u001b[0;34m,\u001b[0m \u001b[0;34m**\u001b[0m\u001b[0mk\u001b[0m\u001b[0;34m)\u001b[0m\u001b[0;34m\u001b[0m\u001b[0;34m\u001b[0m\u001b[0m\n\u001b[0m\u001b[1;32m    189\u001b[0m \u001b[0;34m\u001b[0m\u001b[0m\n\u001b[1;32m    190\u001b[0m         \u001b[0;32mif\u001b[0m \u001b[0mcallable\u001b[0m\u001b[0;34m(\u001b[0m\u001b[0marg\u001b[0m\u001b[0;34m)\u001b[0m\u001b[0;34m:\u001b[0m\u001b[0;34m\u001b[0m\u001b[0;34m\u001b[0m\u001b[0m\n",
            "\u001b[0;32m/usr/local/lib/python3.7/dist-packages/IPython/core/magics/execution.py\u001b[0m in \u001b[0;36mtime\u001b[0;34m(self, line, cell, local_ns)\u001b[0m\n\u001b[1;32m   1187\u001b[0m         \u001b[0;32mif\u001b[0m \u001b[0mmode\u001b[0m\u001b[0;34m==\u001b[0m\u001b[0;34m'eval'\u001b[0m\u001b[0;34m:\u001b[0m\u001b[0;34m\u001b[0m\u001b[0;34m\u001b[0m\u001b[0m\n\u001b[1;32m   1188\u001b[0m             \u001b[0mst\u001b[0m \u001b[0;34m=\u001b[0m \u001b[0mclock2\u001b[0m\u001b[0;34m(\u001b[0m\u001b[0;34m)\u001b[0m\u001b[0;34m\u001b[0m\u001b[0;34m\u001b[0m\u001b[0m\n\u001b[0;32m-> 1189\u001b[0;31m             \u001b[0mout\u001b[0m \u001b[0;34m=\u001b[0m \u001b[0meval\u001b[0m\u001b[0;34m(\u001b[0m\u001b[0mcode\u001b[0m\u001b[0;34m,\u001b[0m \u001b[0mglob\u001b[0m\u001b[0;34m,\u001b[0m \u001b[0mlocal_ns\u001b[0m\u001b[0;34m)\u001b[0m\u001b[0;34m\u001b[0m\u001b[0;34m\u001b[0m\u001b[0m\n\u001b[0m\u001b[1;32m   1190\u001b[0m             \u001b[0mend\u001b[0m \u001b[0;34m=\u001b[0m \u001b[0mclock2\u001b[0m\u001b[0;34m(\u001b[0m\u001b[0;34m)\u001b[0m\u001b[0;34m\u001b[0m\u001b[0;34m\u001b[0m\u001b[0m\n\u001b[1;32m   1191\u001b[0m         \u001b[0;32melse\u001b[0m\u001b[0;34m:\u001b[0m\u001b[0;34m\u001b[0m\u001b[0;34m\u001b[0m\u001b[0m\n",
            "\u001b[0;32m<timed eval>\u001b[0m in \u001b[0;36m<module>\u001b[0;34m()\u001b[0m\n",
            "\u001b[0;32m<ipython-input-28-88011e3629f1>\u001b[0m in \u001b[0;36mhandle_project\u001b[0;34m(datafile_count)\u001b[0m\n\u001b[1;32m      1\u001b[0m \u001b[0;32mdef\u001b[0m \u001b[0mhandle_project\u001b[0m\u001b[0;34m(\u001b[0m\u001b[0mdatafile_count\u001b[0m\u001b[0;34m)\u001b[0m\u001b[0;34m:\u001b[0m\u001b[0;34m\u001b[0m\u001b[0;34m\u001b[0m\u001b[0m\n\u001b[1;32m      2\u001b[0m   \u001b[0mr\u001b[0m \u001b[0;34m=\u001b[0m \u001b[0msession\u001b[0m\u001b[0;34m.\u001b[0m\u001b[0mpost\u001b[0m\u001b[0;34m(\u001b[0m\u001b[0mbase_url\u001b[0m \u001b[0;34m+\u001b[0m \u001b[0;34m'projects'\u001b[0m\u001b[0;34m,\u001b[0m \u001b[0mjson\u001b[0m\u001b[0;34m=\u001b[0m\u001b[0mcreate_project\u001b[0m\u001b[0;34m(\u001b[0m\u001b[0mdatafile_count\u001b[0m\u001b[0;34m)\u001b[0m\u001b[0;34m)\u001b[0m\u001b[0;34m\u001b[0m\u001b[0;34m\u001b[0m\u001b[0m\n\u001b[0;32m----> 3\u001b[0;31m   \u001b[0mr\u001b[0m\u001b[0;34m.\u001b[0m\u001b[0mraise_for_status\u001b[0m\u001b[0;34m(\u001b[0m\u001b[0;34m)\u001b[0m\u001b[0;34m\u001b[0m\u001b[0;34m\u001b[0m\u001b[0m\n\u001b[0m\u001b[1;32m      4\u001b[0m   \u001b[0mj\u001b[0m \u001b[0;34m=\u001b[0m \u001b[0mr\u001b[0m\u001b[0;34m.\u001b[0m\u001b[0mjson\u001b[0m\u001b[0;34m(\u001b[0m\u001b[0;34m)\u001b[0m\u001b[0;34m\u001b[0m\u001b[0;34m\u001b[0m\u001b[0m\n\u001b[1;32m      5\u001b[0m   \u001b[0mprint\u001b[0m\u001b[0;34m(\u001b[0m\u001b[0mj\u001b[0m\u001b[0;34m)\u001b[0m\u001b[0;34m\u001b[0m\u001b[0;34m\u001b[0m\u001b[0m\n",
            "\u001b[0;32m/usr/local/lib/python3.7/dist-packages/requests/models.py\u001b[0m in \u001b[0;36mraise_for_status\u001b[0;34m(self)\u001b[0m\n\u001b[1;32m    939\u001b[0m \u001b[0;34m\u001b[0m\u001b[0m\n\u001b[1;32m    940\u001b[0m         \u001b[0;32mif\u001b[0m \u001b[0mhttp_error_msg\u001b[0m\u001b[0;34m:\u001b[0m\u001b[0;34m\u001b[0m\u001b[0;34m\u001b[0m\u001b[0m\n\u001b[0;32m--> 941\u001b[0;31m             \u001b[0;32mraise\u001b[0m \u001b[0mHTTPError\u001b[0m\u001b[0;34m(\u001b[0m\u001b[0mhttp_error_msg\u001b[0m\u001b[0;34m,\u001b[0m \u001b[0mresponse\u001b[0m\u001b[0;34m=\u001b[0m\u001b[0mself\u001b[0m\u001b[0;34m)\u001b[0m\u001b[0;34m\u001b[0m\u001b[0;34m\u001b[0m\u001b[0m\n\u001b[0m\u001b[1;32m    942\u001b[0m \u001b[0;34m\u001b[0m\u001b[0m\n\u001b[1;32m    943\u001b[0m     \u001b[0;32mdef\u001b[0m \u001b[0mclose\u001b[0m\u001b[0;34m(\u001b[0m\u001b[0mself\u001b[0m\u001b[0;34m)\u001b[0m\u001b[0;34m:\u001b[0m\u001b[0;34m\u001b[0m\u001b[0;34m\u001b[0m\u001b[0m\n",
            "\u001b[0;31mHTTPError\u001b[0m: 504 Server Error: Gateway Time-out for url: https://sandbox10.fairdomhub.org/projects"
          ]
        }
      ]
    },
    {
      "cell_type": "code",
      "source": [
        "study_data = '''{\n",
        "  \"data\": {\n",
        "    \"type\": \"studies\",\n",
        "    \"attributes\": {\n",
        "      \"title\": \"TBD\",\n",
        "      \"description\": \"\"\n",
        "    },\n",
        "    \"relationships\": {\n",
        "      \"investigation\": {\n",
        "        \"data\": {\n",
        "          \"id\": \"1\",\n",
        "          \"type\": \"investigations\"\n",
        "        }\n",
        "      },\n",
        "      \"submitter\": {\n",
        "        \"data\": [\n",
        "          {\n",
        "            \"id\": \"2\",\n",
        "            \"type\": \"people\"\n",
        "          }\n",
        "        ]\n",
        "      }\n",
        "    }\n",
        "  }\n",
        "}'''"
      ],
      "metadata": {
        "id": "weF1pHBhgCnb"
      },
      "execution_count": null,
      "outputs": []
    },
    {
      "cell_type": "code",
      "source": [
        "assay_data = {\n",
        "    \"data\": {\n",
        "        \"type\": \"assays\",\n",
        "        \"attributes\": {\n",
        "            \"title\": \"TBD\",\n",
        "            \"assay_class\": {\n",
        "              \"key\": \"EXP\"\n",
        "            },\n",
        "            \"assay_type\": {\n",
        "              \"uri\": \"http://jermontology.org/ontology/JERMOntology#Transcriptomics\"\n",
        "            },\n",
        "            \"technology_type\": {\n",
        "              \"uri\": \"http://jermontology.org/ontology/JERMOntology#RNA-Seq\"\n",
        "            }\n",
        "        },\n",
        "        \"relationships\": {\n",
        "            \"creators\": {\n",
        "                \"data\": [\n",
        "                    {\n",
        "                        \"id\": \"2\",\n",
        "                        \"type\": \"people\"\n",
        "                    }\n",
        "                ]\n",
        "            },\n",
        "            \"submitter\": {\n",
        "                \"data\": [\n",
        "                    {\n",
        "                        \"id\": \"2\",\n",
        "                        \"type\": \"people\"\n",
        "                    }\n",
        "                ]\n",
        "            },\n",
        "            \"study\": {\n",
        "               \"data\": {\n",
        "                 \"id\": \"TBD\",\n",
        "                  \"type\": \"studies\"\n",
        "              }\n",
        "            },\n",
        "            \"people\": {\n",
        "                \"data\": [\n",
        "                    {\n",
        "                        \"id\": \"2\",\n",
        "                        \"type\": \"people\"\n",
        "                    }\n",
        "                ]\n",
        "            }\n",
        "        }\n",
        "    }\n",
        "}"
      ],
      "metadata": {
        "id": "kmcA_pLvxpRF"
      },
      "execution_count": null,
      "outputs": []
    },
    {
      "cell_type": "code",
      "source": [
        "from pprint import pprint"
      ],
      "metadata": {
        "id": "gxghQSKnpqY6"
      },
      "execution_count": null,
      "outputs": []
    },
    {
      "cell_type": "code",
      "source": [
        "import copy\n"
      ],
      "metadata": {
        "id": "TpKDINiU73gK"
      },
      "execution_count": null,
      "outputs": []
    },
    {
      "cell_type": "code",
      "source": [
        "def handle_study(assay_count):\n",
        "  r = session.post(base_url + 'studies', json=create_study(assay_count))\n",
        "  r.raise_for_status()\n",
        "  j = r.json()\n",
        "  study_id = j['data']['id']\n",
        "\n",
        "  singletons = []\n",
        "  for i in range(1, assay_count + 1):\n",
        "    s = assay_data.copy()\n",
        "    s['data']['attributes']['title'] = 't_' + str(i)\n",
        "    s['data']['relationships']['study']['data']['id'] = study_id\n",
        "\n",
        "    singletons.append (copy.deepcopy(s))\n",
        "\n",
        "  return (copy.deepcopy(singletons))"
      ],
      "metadata": {
        "id": "qFMxobBQhUn6"
      },
      "execution_count": null,
      "outputs": []
    },
    {
      "cell_type": "code",
      "source": [
        "def post_assays(posts):\n",
        "  for s in posts:\n",
        "    r = session.post(base_url + 'assays', json=s)\n",
        "    r.raise_for_status()"
      ],
      "metadata": {
        "id": "9z0AL1yCNXY5"
      },
      "execution_count": null,
      "outputs": []
    },
    {
      "cell_type": "code",
      "source": [
        "%time post_assays(handle_study (1))"
      ],
      "metadata": {
        "id": "HQ2lordT6BnD"
      },
      "execution_count": null,
      "outputs": []
    },
    {
      "cell_type": "code",
      "source": [
        "%time post_assays(handle_study (20))"
      ],
      "metadata": {
        "id": "ZAdgB05PNuke"
      },
      "execution_count": null,
      "outputs": []
    },
    {
      "cell_type": "code",
      "source": [
        "%time post_assays(handle_study (200))"
      ],
      "metadata": {
        "id": "hjZssDd6564W"
      },
      "execution_count": null,
      "outputs": []
    },
    {
      "cell_type": "code",
      "source": [
        "%time post_assays(handle_study (2000))"
      ],
      "metadata": {
        "id": "99V32gh_57nz"
      },
      "execution_count": null,
      "outputs": []
    },
    {
      "cell_type": "code",
      "source": [
        "def search_assays (a):\n",
        "  r = session.get(base_url + 'search?search_type=assays&q=' + a)\n",
        "  r.raise_for_status()"
      ],
      "metadata": {
        "id": "utiYjoXpKYsZ"
      },
      "execution_count": null,
      "outputs": []
    },
    {
      "cell_type": "code",
      "source": [
        "%time search_assays('t_3')"
      ],
      "metadata": {
        "id": "wzl7Wn6MLQVx"
      },
      "execution_count": null,
      "outputs": []
    }
  ]
}