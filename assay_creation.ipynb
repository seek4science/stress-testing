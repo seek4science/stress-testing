{
  "nbformat": 4,
  "nbformat_minor": 0,
  "metadata": {
    "colab": {
      "name": "assay_creation.ipynb",
      "provenance": [],
      "collapsed_sections": [],
      "include_colab_link": true
    },
    "kernelspec": {
      "display_name": "Python 3",
      "language": "python",
      "name": "python3"
    }
  },
  "cells": [
    {
      "cell_type": "markdown",
      "metadata": {
        "id": "view-in-github",
        "colab_type": "text"
      },
      "source": [
        "<a href=\"https://colab.research.google.com/github/seek4science/stress-testing/blob/main/assay_creation.ipynb\" target=\"_parent\"><img src=\"https://colab.research.google.com/assets/colab-badge.svg\" alt=\"Open In Colab\"/></a>"
      ]
    },
    {
      "cell_type": "code",
      "source": [
        "!pip install num2words\n",
        "import num2words"
      ],
      "metadata": {
        "id": "eE7L3Dvru5hX"
      },
      "execution_count": null,
      "outputs": []
    },
    {
      "cell_type": "markdown",
      "metadata": {
        "id": "eHED0l52PClp"
      },
      "source": [
        "Import the libraries so that they can be used within the notebook\n",
        "\n",
        "* **requests** is used to make HTTP calls\n",
        "* **json** is used to encode and decode strings into JSON\n",
        "* **string** is used to perform text manipulation and checking\n",
        "* **getpass** is used to do non-echoing password input"
      ]
    },
    {
      "cell_type": "code",
      "metadata": {
        "id": "5EGmpx3Id7py"
      },
      "source": [
        "import requests\n",
        "import json\n",
        "import string\n",
        "import getpass"
      ],
      "execution_count": null,
      "outputs": []
    },
    {
      "cell_type": "markdown",
      "metadata": {
        "id": "u9t7T9pmQJsn"
      },
      "source": [
        "The **base_url** holds the URL to the SEEK instance that will be used in the notebook\n",
        "\n",
        "**headers** holds the HTTP headers that will be sent with every HTTP call\n",
        "\n",
        "* **Content-type: application/vnd.api+json** - indicates that any data sent will be in JSON API format\n",
        "* **Accept: application/vnd.api+json** - indicates that the notebook expects any data returned to be in JSON API format\n",
        "* **Accept-Charset: ISO-8859-1** - indicates that the notebook expects any text returned to be in ISO-8859-1 character set"
      ]
    },
    {
      "cell_type": "code",
      "metadata": {
        "id": "QKepIS_xd7qL"
      },
      "source": [
        "base_url = 'https://sandbox10.fairdomhub.org/'\n",
        "\n",
        "headers = {\"Content-type\": \"application/vnd.api+json\",\n",
        "           \"Accept\": \"application/vnd.api+json\",\n",
        "           \"Accept-Charset\": \"ISO-8859-1\"}"
      ],
      "execution_count": null,
      "outputs": []
    },
    {
      "cell_type": "markdown",
      "metadata": {
        "id": "W0U3A7RNQJsu"
      },
      "source": [
        "Create a **requests** HTTP **Session**. A **Session** has re-usable settings such as **headers**\n",
        "\n",
        "The **authorization** is username and password. The user is prompted for this information."
      ]
    },
    {
      "cell_type": "code",
      "metadata": {
        "id": "UKqc5Sr6d7qS"
      },
      "source": [
        "session = requests.Session()\n",
        "session.headers.update(headers)\n",
        "session.auth = (input('Username: '), getpass.getpass('Password: '))"
      ],
      "execution_count": null,
      "outputs": []
    },
    {
      "cell_type": "markdown",
      "metadata": {
        "id": "0xz097gufmP3"
      },
      "source": [
        "The assays will be created within **Studies** within **Investigation** 1"
      ]
    },
    {
      "cell_type": "code",
      "metadata": {
        "id": "CPcirVGad7qa"
      },
      "source": [
        "containing_investigation_id = 1\n"
      ],
      "execution_count": null,
      "outputs": []
    },
    {
      "cell_type": "code",
      "source": [
        "study_data = '''{\n",
        "  \"data\": {\n",
        "    \"type\": \"studies\",\n",
        "    \"attributes\": {\n",
        "      \"title\": \"TBD\",\n",
        "      \"description\": \"\"\n",
        "    },\n",
        "    \"relationships\": {\n",
        "      \"investigation\": {\n",
        "        \"data\": {\n",
        "          \"id\": \"1\",\n",
        "          \"type\": \"investigations\"\n",
        "        }\n",
        "      },\n",
        "      \"submitter\": {\n",
        "        \"data\": [\n",
        "          {\n",
        "            \"id\": \"2\",\n",
        "            \"type\": \"people\"\n",
        "          }\n",
        "        ]\n",
        "      }\n",
        "    }\n",
        "  }\n",
        "}'''"
      ],
      "metadata": {
        "id": "weF1pHBhgCnb"
      },
      "execution_count": null,
      "outputs": []
    },
    {
      "cell_type": "code",
      "source": [
        "assay_data = {\n",
        "    \"data\": {\n",
        "        \"type\": \"assays\",\n",
        "        \"attributes\": {\n",
        "            \"title\": \"TBD\",\n",
        "            \"assay_class\": {\n",
        "              \"key\": \"EXP\"\n",
        "            },\n",
        "            \"assay_type\": {\n",
        "              \"uri\": \"http://jermontology.org/ontology/JERMOntology#Transcriptomics\"\n",
        "            },\n",
        "            \"technology_type\": {\n",
        "              \"uri\": \"http://jermontology.org/ontology/JERMOntology#RNA-Seq\"\n",
        "            }\n",
        "        },\n",
        "        \"relationships\": {\n",
        "            \"creators\": {\n",
        "                \"data\": [\n",
        "                    {\n",
        "                        \"id\": \"2\",\n",
        "                        \"type\": \"people\"\n",
        "                    }\n",
        "                ]\n",
        "            },\n",
        "            \"submitter\": {\n",
        "                \"data\": [\n",
        "                    {\n",
        "                        \"id\": \"2\",\n",
        "                        \"type\": \"people\"\n",
        "                    }\n",
        "                ]\n",
        "            },\n",
        "            \"study\": {\n",
        "               \"data\": {\n",
        "                 \"id\": \"TBD\",\n",
        "                  \"type\": \"studies\"\n",
        "              }\n",
        "            },\n",
        "            \"people\": {\n",
        "                \"data\": [\n",
        "                    {\n",
        "                        \"id\": \"2\",\n",
        "                        \"type\": \"people\"\n",
        "                    }\n",
        "                ]\n",
        "            }\n",
        "        }\n",
        "    }\n",
        "}"
      ],
      "metadata": {
        "id": "kmcA_pLvxpRF"
      },
      "execution_count": null,
      "outputs": []
    },
    {
      "cell_type": "code",
      "source": [
        "from num2words import num2words\n"
      ],
      "metadata": {
        "id": "7sk6GleAmQm8"
      },
      "execution_count": null,
      "outputs": []
    },
    {
      "cell_type": "code",
      "source": [
        "def create_study(assay_count) :\n",
        "  study = json.loads(study_data)\n",
        "  study['data']['attributes']['title'] = num2words(assay_count).capitalize() + ' assays study'\n",
        "\n",
        "  return(study)"
      ],
      "metadata": {
        "id": "Et4k9B_LqHzg"
      },
      "execution_count": null,
      "outputs": []
    },
    {
      "cell_type": "code",
      "source": [
        "from pprint import pprint"
      ],
      "metadata": {
        "id": "gxghQSKnpqY6"
      },
      "execution_count": null,
      "outputs": []
    },
    {
      "cell_type": "code",
      "source": [
        "import copy\n"
      ],
      "metadata": {
        "id": "TpKDINiU73gK"
      },
      "execution_count": null,
      "outputs": []
    },
    {
      "cell_type": "code",
      "source": [
        "def handle_study(assay_count):\n",
        "  r = session.post(base_url + 'studies', json=create_study(assay_count))\n",
        "  r.raise_for_status()\n",
        "  j = r.json()\n",
        "  study_id = j['data']['id']\n",
        "\n",
        "  singletons = []\n",
        "  for i in range(1, assay_count + 1):\n",
        "    s = assay_data.copy()\n",
        "    s['data']['attributes']['title'] = 't_' + str(i)\n",
        "    s['data']['relationships']['study']['data']['id'] = study_id\n",
        "\n",
        "    singletons.append (copy.deepcopy(s))\n",
        "\n",
        "  return (copy.deepcopy(singletons))"
      ],
      "metadata": {
        "id": "qFMxobBQhUn6"
      },
      "execution_count": null,
      "outputs": []
    },
    {
      "cell_type": "code",
      "source": [
        "def post_assays(posts):\n",
        "  for s in posts:\n",
        "    r = session.post(base_url + 'assays', json=s)\n",
        "    r.raise_for_status()"
      ],
      "metadata": {
        "id": "9z0AL1yCNXY5"
      },
      "execution_count": null,
      "outputs": []
    },
    {
      "cell_type": "code",
      "source": [
        "%time post_assays(handle_study (1))"
      ],
      "metadata": {
        "id": "HQ2lordT6BnD"
      },
      "execution_count": null,
      "outputs": []
    },
    {
      "cell_type": "code",
      "source": [
        "%time post_assays(handle_study (20))"
      ],
      "metadata": {
        "id": "ZAdgB05PNuke"
      },
      "execution_count": null,
      "outputs": []
    },
    {
      "cell_type": "code",
      "source": [
        "%time post_assays(handle_study (200))"
      ],
      "metadata": {
        "id": "hjZssDd6564W"
      },
      "execution_count": null,
      "outputs": []
    },
    {
      "cell_type": "code",
      "source": [
        "%time post_assays(handle_study (2000))"
      ],
      "metadata": {
        "id": "99V32gh_57nz"
      },
      "execution_count": null,
      "outputs": []
    },
    {
      "cell_type": "code",
      "source": [
        "def search_assays (a):\n",
        "  r = session.get(base_url + 'search?search_type=assays&q=' + a)\n",
        "  r.raise_for_status()"
      ],
      "metadata": {
        "id": "utiYjoXpKYsZ"
      },
      "execution_count": null,
      "outputs": []
    },
    {
      "cell_type": "code",
      "source": [
        "%time search_assays('t_3')"
      ],
      "metadata": {
        "id": "wzl7Wn6MLQVx"
      },
      "execution_count": null,
      "outputs": []
    }
  ]
}